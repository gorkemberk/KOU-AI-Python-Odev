{
 "cells": [
  {
   "cell_type": "markdown",
   "metadata": {},
   "source": [
    "# 1.SORU\n"
   ]
  },
  {
   "cell_type": "code",
   "execution_count": 7,
   "metadata": {},
   "outputs": [
    {
     "name": "stdout",
     "output_type": "stream",
     "text": [
      "Lutfen bir sayi giriniz:0\n",
      "Çift sayi\n"
     ]
    }
   ],
   "source": [
    "sayi = int(input(\"Lutfen bir sayi giriniz:\"))\n",
    "\n",
    "if sayi % 2 == 0 :\n",
    "    print(\"Çift sayi\")\n",
    "else :\n",
    "    print(\"Tek sayi\")"
   ]
  },
  {
   "cell_type": "markdown",
   "metadata": {},
   "source": [
    "# 2.SORU"
   ]
  },
  {
   "cell_type": "code",
   "execution_count": 21,
   "metadata": {},
   "outputs": [
    {
     "name": "stdout",
     "output_type": "stream",
     "text": [
      "Lutfen bir sayi giriniz:9\n",
      "Asal sayi degil\n"
     ]
    }
   ],
   "source": [
    "sayi = int(input(\"Lutfen bir sayi giriniz:\"))\n",
    "temp = False \n",
    "for i in range(2,sayi):\n",
    "    if sayi % i == 0 :\n",
    "        temp = True \n",
    "        break\n",
    "    else :\n",
    "        i= i + 1\n",
    "        \n",
    "if temp == True :\n",
    "    print(\"Asal sayi degil\")\n",
    "else :\n",
    "    print(\"Asal sayi\")\n",
    "\n",
    "        \n",
    "\n",
    "\n",
    "        \n",
    "            \n",
    "        \n",
    "    "
   ]
  },
  {
   "cell_type": "markdown",
   "metadata": {},
   "source": [
    "# 3.SORU"
   ]
  },
  {
   "cell_type": "code",
   "execution_count": 48,
   "metadata": {},
   "outputs": [
    {
     "name": "stdout",
     "output_type": "stream",
     "text": [
      "\n"
     ]
    }
   ],
   "source": [
    "ilk_string = \"Ah5me4t\"\n",
    "ikinci_string = \"M9eHm4eT\"\n",
    "ucuncu_string = \"Ha3K5a1n\"\n",
    "string = [\"1\",\"3\",\"4\",\"5\",\"9\"]\n",
    "for he in ilk_string:\n",
    "    for hehe in string:\n",
    "        if he == hehe:\n",
    "            a = hehe.replace(he,\"\")\n",
    "print(a)\n",
    "     \n",
    "            \n",
    "        \n",
    "\n",
    "\n"
   ]
  },
  {
   "cell_type": "code",
   "execution_count": 89,
   "metadata": {},
   "outputs": [
    {
     "ename": "IndexError",
     "evalue": "list index out of range",
     "output_type": "error",
     "traceback": [
      "\u001b[1;31m---------------------------------------------------------------------------\u001b[0m",
      "\u001b[1;31mIndexError\u001b[0m                                Traceback (most recent call last)",
      "\u001b[1;32m<ipython-input-89-d73d111fb847>\u001b[0m in \u001b[0;36m<module>\u001b[1;34m\u001b[0m\n\u001b[0;32m     30\u001b[0m \u001b[1;33m\u001b[0m\u001b[0m\n\u001b[0;32m     31\u001b[0m \u001b[1;32mfor\u001b[0m \u001b[0mi\u001b[0m \u001b[1;32min\u001b[0m \u001b[0mrange\u001b[0m\u001b[1;33m(\u001b[0m\u001b[1;36m0\u001b[0m\u001b[1;33m,\u001b[0m\u001b[0mlen\u001b[0m\u001b[1;33m(\u001b[0m\u001b[0mtemp1\u001b[0m\u001b[1;33m)\u001b[0m\u001b[1;33m)\u001b[0m\u001b[1;33m:\u001b[0m\u001b[1;33m\u001b[0m\u001b[1;33m\u001b[0m\u001b[0m\n\u001b[1;32m---> 32\u001b[1;33m     \u001b[0mtemp4\u001b[0m \u001b[1;33m=\u001b[0m \u001b[0mtemp4\u001b[0m \u001b[1;33m+\u001b[0m \u001b[0mtemp0\u001b[0m\u001b[1;33m[\u001b[0m\u001b[0mi\u001b[0m\u001b[1;33m]\u001b[0m\u001b[1;33m\u001b[0m\u001b[1;33m\u001b[0m\u001b[0m\n\u001b[0m\u001b[0;32m     33\u001b[0m \u001b[1;33m\u001b[0m\u001b[0m\n\u001b[0;32m     34\u001b[0m \u001b[1;33m\u001b[0m\u001b[0m\n",
      "\u001b[1;31mIndexError\u001b[0m: list index out of range"
     ]
    }
   ],
   "source": [
    "ilk_string = \"Ah5me4t\"\n",
    "ikinci_string = \"M9eHm4eT\"\n",
    "ucuncu_string = \"Ha3K5a1n\"\n",
    "temp = []\n",
    "temp1 = []\n",
    "temp0 = []\n",
    "temp2 = \"\"\n",
    "temp3 = \"\"\n",
    "temp4 = \"\"\n",
    "for i in range(0,len(ilk_string)):\n",
    "    if ord(ilk_string[i]) >= 65 and ord(ilk_string[i])<= 122  :\n",
    "        temp.append(ilk_string[i])\n",
    "    \n",
    "for i in range(0,len(temp)):\n",
    "    temp2 = temp2 + temp[i]\n",
    "\n",
    "###############\n",
    "\n",
    "for i in range(0,len(ikinci_string)):\n",
    "    if ord(ikinci_string[i]) >= 65 and ord(ikinci_string[i])<= 122  :\n",
    "        temp1.append(ikinci_string[i])\n",
    "    \n",
    "for i in range(0,len(temp1)):\n",
    "    temp3 = temp3 + temp1[i]\n",
    "\n",
    "##############\n",
    "for i in range(0,len(ucuncu_string)):\n",
    "    if ord(ucuncu_string[i]) >= 65 and ord(ucuncu_string[i])<= 122  :\n",
    "        temp0.append(ucuncu_string[i])\n",
    "    \n",
    "for i in range(0,len(temp1)):\n",
    "    temp4 = temp4 + temp0[i]\n",
    "\n",
    "\n",
    "    \n",
    "print(temp2,temp3,temp4)\n"
   ]
  },
  {
   "cell_type": "code",
   "execution_count": 54,
   "metadata": {},
   "outputs": [
    {
     "data": {
      "text/plain": [
       "65"
      ]
     },
     "execution_count": 54,
     "metadata": {},
     "output_type": "execute_result"
    }
   ],
   "source": [
    "ilk_string = \"Ah5me4t\"\n",
    "ord(ilk_string[0])"
   ]
  },
  {
   "cell_type": "code",
   "execution_count": null,
   "metadata": {},
   "outputs": [],
   "source": []
  }
 ],
 "metadata": {
  "kernelspec": {
   "display_name": "Python 3",
   "language": "python",
   "name": "python3"
  },
  "language_info": {
   "codemirror_mode": {
    "name": "ipython",
    "version": 3
   },
   "file_extension": ".py",
   "mimetype": "text/x-python",
   "name": "python",
   "nbconvert_exporter": "python",
   "pygments_lexer": "ipython3",
   "version": "3.8.5"
  }
 },
 "nbformat": 4,
 "nbformat_minor": 4
}
